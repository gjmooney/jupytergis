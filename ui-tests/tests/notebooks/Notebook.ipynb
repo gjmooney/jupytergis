{
 "cells": [
  {
   "cell_type": "code",
   "execution_count": 1,
   "id": "d0f18a1a-7eda-4387-a2a3-ed0530c82548",
   "metadata": {},
   "outputs": [
    {
     "data": {
      "application/vnd.jupyter.ywidget-view+json": {
       "model_id": "f26d3a5f548640ec9dde897a45b59539",
       "version_major": 2,
       "version_minor": 0
      },
      "text/plain": [
       "<jupytergis_lab.notebook.gis_document.GISDocument object at 0x7fe6c8777ce0>"
      ]
     },
     "execution_count": 1,
     "metadata": {},
     "output_type": "execute_result"
    }
   ],
   "source": [
    "from jupytergis_lab import GISDocument\n",
    "\n",
    "doc = GISDocument()\n",
    "\n",
    "doc.add_raster_layer(\n",
    "    url=\"https://mt1.google.com/vt/lyrs=y&x={x}&y={y}&z={z}\",\n",
    "    name=\"Google Satellite\",\n",
    "    attribution=\"Google\",\n",
    "    opacity=0.6,\n",
    ")\n",
    "\n",
    "\n",
    "doc"
   ]
  },
  {
   "cell_type": "code",
   "execution_count": null,
   "id": "b65dce55-9364-479e-ac7b-384cda9f422e",
   "metadata": {},
   "outputs": [],
   "source": [
    "doc = GISDocument(latitude=40.775, longitude=-73.973, zoom=13)\n",
    "\n",
    "doc.add_raster_layer(\n",
    "    url=\"https://tile.openstreetmap.org/{z}/{x}/{y}.png\",\n",
    "    name=\"Open Street Map\",\n",
    "    attribution=\"OpenStreetMap\",\n",
    "    opacity=0.6,\n",
    ")\n",
    "\n",
    "doc"
   ]
  },
  {
   "cell_type": "code",
   "execution_count": 4,
   "id": "d4a2ebd4-3d48-4aa7-8999-6684fdae0812",
   "metadata": {},
   "outputs": [
    {
     "data": {
      "application/vnd.jupyter.ywidget-view+json": {
       "model_id": "4b6199596517414d846c424f2f592d1e",
       "version_major": 2,
       "version_minor": 0
      },
      "text/plain": [
       "<jupytergis_lab.notebook.gis_document.GISDocument object at 0x7fe6b0207ce0>"
      ]
     },
     "execution_count": 4,
     "metadata": {},
     "output_type": "execute_result"
    }
   ],
   "source": [
    "doc = GISDocument(latitude=47.259, longitude=11.418, zoom=12)\n",
    "\n",
    "doc.add_raster_layer(\n",
    "    url=\"https://tile.openstreetmap.org/{z}/{x}/{y}.png\",\n",
    "    name=\"Open Street Map\",\n",
    "    attribution=\"OpenStreetMap\",\n",
    "    opacity=0.6,\n",
    ")\n",
    "\n",
    "doc.add_hillshade_layer(\n",
    "    url=\"https://s3.amazonaws.com/elevation-tiles-prod/terrarium/{z}/{x}/{y}.png\"\n",
    ")\n",
    "\n",
    "\n",
    "doc"
   ]
  }
 ],
 "metadata": {
  "kernelspec": {
   "display_name": "Python 3 (ipykernel)",
   "language": "python",
   "name": "python3"
  },
  "language_info": {
   "codemirror_mode": {
    "name": "ipython",
    "version": 3
   },
   "file_extension": ".py",
   "mimetype": "text/x-python",
   "name": "python",
   "nbconvert_exporter": "python",
   "pygments_lexer": "ipython3",
   "version": "3.12.8"
  }
 },
 "nbformat": 4,
 "nbformat_minor": 5
}
